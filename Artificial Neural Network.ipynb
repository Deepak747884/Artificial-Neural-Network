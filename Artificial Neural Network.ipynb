{
 "cells": [
  {
   "cell_type": "markdown",
   "metadata": {},
   "source": [
    "# Artificial Neural Network"
   ]
  },
  {
   "cell_type": "markdown",
   "metadata": {},
   "source": [
    "# Part 1 - Data Preprocessing"
   ]
  },
  {
   "cell_type": "markdown",
   "metadata": {},
   "source": [
    "# Importing the libraries\n",
    "\n",
    "import numpy as np\n",
    "import matplotlib.pyplot as plt\n",
    "import pandas as pd"
   ]
  },
  {
   "cell_type": "markdown",
   "metadata": {},
   "source": [
    "# Importing the dataset\n",
    "\n",
    "dataset = pd.read_csv('Churn_Modelling.csv')\n",
    "X = dataset.iloc[:, 3:13].values\n",
    "y = dataset.iloc[:, 13].values\n"
   ]
  },
  {
   "cell_type": "markdown",
   "metadata": {},
   "source": [
    "# Encoding categorical data\n",
    "\n",
    "from sklearn.preprocessing import LabelEncoder, OneHotEncoder\n",
    "labelencoder_X_1 = LabelEncoder()\n",
    "X[:, 1] = labelencoder_X_1.fit_transform(X[:, 1])\n",
    "labelencoder_X_2 = LabelEncoder()\n",
    "X[:, 2] = labelencoder_X_2.fit_transform(X[:, 2])\n",
    "onehotencoder = OneHotEncoder(categorical_features = [1])\n",
    "X = onehotencoder.fit_transform(X).toarray()\n",
    "X = X[:, 1:]\n"
   ]
  },
  {
   "cell_type": "markdown",
   "metadata": {},
   "source": [
    "# Splitting the dataset into the Training set and Test set\n",
    "\n",
    "from sklearn.model_selection import train_test_split\n",
    "X_train, X_test, y_train, y_test = train_test_split(X, y, test_size = 0.2, random_state = 0)\n"
   ]
  },
  {
   "cell_type": "markdown",
   "metadata": {},
   "source": [
    "# Feature Scaling\n",
    "\n",
    "from sklearn.preprocessing import StandardScaler\n",
    "sc = StandardScaler()\n",
    "X_train = sc.fit_transform(X_train)\n",
    "X_test = sc.transform(X_test)"
   ]
  },
  {
   "cell_type": "markdown",
   "metadata": {},
   "source": [
    "# Part 2 - ANN building"
   ]
  },
  {
   "cell_type": "markdown",
   "metadata": {},
   "source": [
    "# Importing the Keras libraries and packages\n",
    "\n",
    "import keras\n",
    "from keras.models import Sequential\n",
    "from keras.layers import Dense"
   ]
  },
  {
   "cell_type": "markdown",
   "metadata": {},
   "source": [
    "# Initialising the ANN\n",
    "\n",
    "classifier = Sequential()"
   ]
  },
  {
   "cell_type": "markdown",
   "metadata": {},
   "source": [
    "# Adding the input layer and the first hidden layer\n",
    "\n",
    "classifier.add(Dense(units = 6, kernel_initializer = 'uniform', activation = 'relu', input_dim = 11))"
   ]
  },
  {
   "cell_type": "markdown",
   "metadata": {},
   "source": [
    "# Adding the second hidden layer\n",
    "\n",
    "classifier.add(Dense(units = 6, kernel_initializer = 'uniform', activation = 'relu'))\n"
   ]
  },
  {
   "cell_type": "markdown",
   "metadata": {},
   "source": [
    "# Adding the output layer\n",
    "\n",
    "classifier.add(Dense(units = 1, kernel_initializer = 'uniform', activation = 'sigmoid'))\n"
   ]
  },
  {
   "cell_type": "markdown",
   "metadata": {},
   "source": [
    "# Compiling the ANN\n",
    "\n",
    "classifier.compile(optimizer = 'adam', loss = 'binary_crossentropy', metrics = ['accuracy'])\n"
   ]
  },
  {
   "cell_type": "code",
   "execution_count": 21,
   "metadata": {},
   "outputs": [
    {
     "name": "stdout",
     "output_type": "stream",
     "text": [
      "Epoch 1/100\n",
      "8000/8000 [==============================] - 1s 183us/step - loss: 1.4934 - acc: 0.7960\n",
      "Epoch 2/100\n",
      "8000/8000 [==============================] - 1s 183us/step - loss: 1.1700 - acc: 0.7960\n",
      "Epoch 3/100\n",
      "8000/8000 [==============================] - 1s 183us/step - loss: 0.5341 - acc: 0.7960\n",
      "Epoch 4/100\n",
      "8000/8000 [==============================] - 1s 181us/step - loss: 0.5060 - acc: 0.7960\n",
      "Epoch 5/100\n",
      "8000/8000 [==============================] - 1s 179us/step - loss: 0.5060 - acc: 0.7960\n",
      "Epoch 6/100\n",
      "8000/8000 [==============================] - 1s 180us/step - loss: 0.5060 - acc: 0.7960\n",
      "Epoch 7/100\n",
      "8000/8000 [==============================] - 1s 180us/step - loss: 0.5060 - acc: 0.7960\n",
      "Epoch 8/100\n",
      "8000/8000 [==============================] - 2s 189us/step - loss: 0.5059 - acc: 0.7960\n",
      "Epoch 9/100\n",
      "8000/8000 [==============================] - 1s 181us/step - loss: 0.5060 - acc: 0.7960\n",
      "Epoch 10/100\n",
      "8000/8000 [==============================] - 1s 181us/step - loss: 0.5059 - acc: 0.7960\n",
      "Epoch 11/100\n",
      "8000/8000 [==============================] - 1s 182us/step - loss: 0.5060 - acc: 0.7960\n",
      "Epoch 12/100\n",
      "8000/8000 [==============================] - 1s 181us/step - loss: 0.5059 - acc: 0.7960\n",
      "Epoch 13/100\n",
      "8000/8000 [==============================] - 1s 182us/step - loss: 0.5059 - acc: 0.7960\n",
      "Epoch 14/100\n",
      "8000/8000 [==============================] - 1s 182us/step - loss: 0.5059 - acc: 0.7960\n",
      "Epoch 15/100\n",
      "8000/8000 [==============================] - 1s 181us/step - loss: 0.5059 - acc: 0.7960\n",
      "Epoch 16/100\n",
      "8000/8000 [==============================] - 1s 186us/step - loss: 0.5059 - acc: 0.7960\n",
      "Epoch 17/100\n",
      "8000/8000 [==============================] - 2s 192us/step - loss: 0.5059 - acc: 0.7960\n",
      "Epoch 18/100\n",
      "8000/8000 [==============================] - 1s 187us/step - loss: 0.5060 - acc: 0.7960\n",
      "Epoch 19/100\n",
      "8000/8000 [==============================] - 1s 186us/step - loss: 0.5059 - acc: 0.7960\n",
      "Epoch 20/100\n",
      "8000/8000 [==============================] - 1s 184us/step - loss: 0.5059 - acc: 0.7960\n",
      "Epoch 21/100\n",
      "8000/8000 [==============================] - 1s 181us/step - loss: 0.5060 - acc: 0.7960\n",
      "Epoch 22/100\n",
      "8000/8000 [==============================] - 1s 186us/step - loss: 0.5059 - acc: 0.7960\n",
      "Epoch 23/100\n",
      "8000/8000 [==============================] - 1s 187us/step - loss: 0.5060 - acc: 0.7960\n",
      "Epoch 24/100\n",
      "8000/8000 [==============================] - 1s 185us/step - loss: 0.5059 - acc: 0.7960\n",
      "Epoch 25/100\n",
      "8000/8000 [==============================] - 1s 185us/step - loss: 0.5059 - acc: 0.7960\n",
      "Epoch 26/100\n",
      "8000/8000 [==============================] - 2s 188us/step - loss: 0.5060 - acc: 0.7960\n",
      "Epoch 27/100\n",
      "8000/8000 [==============================] - 1s 186us/step - loss: 0.5084 - acc: 0.7960\n",
      "Epoch 28/100\n",
      "8000/8000 [==============================] - 1s 186us/step - loss: 0.5079 - acc: 0.7960\n",
      "Epoch 29/100\n",
      "8000/8000 [==============================] - 1s 182us/step - loss: 0.5074 - acc: 0.7960\n",
      "Epoch 30/100\n",
      "8000/8000 [==============================] - 1s 184us/step - loss: 0.5074 - acc: 0.7960\n",
      "Epoch 31/100\n",
      "8000/8000 [==============================] - 1s 184us/step - loss: 0.5075 - acc: 0.7960\n",
      "Epoch 32/100\n",
      "8000/8000 [==============================] - 2s 188us/step - loss: 0.5075 - acc: 0.7960\n",
      "Epoch 33/100\n",
      "8000/8000 [==============================] - 1s 183us/step - loss: 0.5060 - acc: 0.7960\n",
      "Epoch 34/100\n",
      "8000/8000 [==============================] - 1s 183us/step - loss: 0.5060 - acc: 0.7960\n",
      "Epoch 35/100\n",
      "8000/8000 [==============================] - 2s 188us/step - loss: 0.5059 - acc: 0.7960\n",
      "Epoch 36/100\n",
      "8000/8000 [==============================] - 1s 180us/step - loss: 0.5060 - acc: 0.7960\n",
      "Epoch 37/100\n",
      "8000/8000 [==============================] - 2s 189us/step - loss: 0.5060 - acc: 0.7960\n",
      "Epoch 38/100\n",
      "8000/8000 [==============================] - 1s 185us/step - loss: 0.5059 - acc: 0.7960\n",
      "Epoch 39/100\n",
      "8000/8000 [==============================] - 1s 185us/step - loss: 0.5060 - acc: 0.7960\n",
      "Epoch 40/100\n",
      "8000/8000 [==============================] - 1s 181us/step - loss: 0.5059 - acc: 0.7960\n",
      "Epoch 41/100\n",
      "8000/8000 [==============================] - 2s 190us/step - loss: 0.5060 - acc: 0.7960\n",
      "Epoch 42/100\n",
      "8000/8000 [==============================] - 1s 182us/step - loss: 0.5060 - acc: 0.7960\n",
      "Epoch 43/100\n",
      "8000/8000 [==============================] - 1s 181us/step - loss: 0.5059 - acc: 0.7960\n",
      "Epoch 44/100\n",
      "8000/8000 [==============================] - 1s 182us/step - loss: 0.5060 - acc: 0.7960\n",
      "Epoch 45/100\n",
      "8000/8000 [==============================] - 1s 182us/step - loss: 0.5059 - acc: 0.7960\n",
      "Epoch 46/100\n",
      "8000/8000 [==============================] - 2s 210us/step - loss: 0.5058 - acc: 0.7960\n",
      "Epoch 47/100\n",
      "8000/8000 [==============================] - 2s 221us/step - loss: 0.5060 - acc: 0.7960\n",
      "Epoch 48/100\n",
      "8000/8000 [==============================] - 2s 203us/step - loss: 0.5060 - acc: 0.7960\n",
      "Epoch 49/100\n",
      "8000/8000 [==============================] - 2s 193us/step - loss: 0.5059 - acc: 0.7960\n",
      "Epoch 50/100\n",
      "8000/8000 [==============================] - 2s 199us/step - loss: 0.5059 - acc: 0.7960\n",
      "Epoch 51/100\n",
      "8000/8000 [==============================] - 2s 192us/step - loss: 0.5059 - acc: 0.7960\n",
      "Epoch 52/100\n",
      "8000/8000 [==============================] - 2s 196us/step - loss: 0.5058 - acc: 0.7960\n",
      "Epoch 53/100\n",
      "8000/8000 [==============================] - 2s 188us/step - loss: 0.5102 - acc: 0.7960\n",
      "Epoch 54/100\n",
      "8000/8000 [==============================] - 2s 203us/step - loss: 0.5075 - acc: 0.7960\n",
      "Epoch 55/100\n",
      "8000/8000 [==============================] - 2s 191us/step - loss: 0.5073 - acc: 0.7960\n",
      "Epoch 56/100\n",
      "8000/8000 [==============================] - 2s 213us/step - loss: 0.5077 - acc: 0.7960\n",
      "Epoch 57/100\n",
      "8000/8000 [==============================] - 2s 189us/step - loss: 0.5073 - acc: 0.7960\n",
      "Epoch 58/100\n",
      "8000/8000 [==============================] - 1s 186us/step - loss: 0.5075 - acc: 0.7960\n",
      "Epoch 59/100\n",
      "8000/8000 [==============================] - 2s 188us/step - loss: 0.5074 - acc: 0.7960\n",
      "Epoch 60/100\n",
      "8000/8000 [==============================] - 1s 182us/step - loss: 0.5075 - acc: 0.7960\n",
      "Epoch 61/100\n",
      "8000/8000 [==============================] - 2s 190us/step - loss: 0.5074 - acc: 0.7960\n",
      "Epoch 62/100\n",
      "8000/8000 [==============================] - 1s 184us/step - loss: 0.5075 - acc: 0.7960\n",
      "Epoch 63/100\n",
      "8000/8000 [==============================] - 1s 183us/step - loss: 0.5074 - acc: 0.7960\n",
      "Epoch 64/100\n",
      "8000/8000 [==============================] - 1s 183us/step - loss: 0.5059 - acc: 0.7960\n",
      "Epoch 65/100\n",
      "8000/8000 [==============================] - 1s 178us/step - loss: 0.5059 - acc: 0.7960\n",
      "Epoch 66/100\n",
      "8000/8000 [==============================] - 2s 189us/step - loss: 0.5058 - acc: 0.7960\n",
      "Epoch 67/100\n",
      "8000/8000 [==============================] - 1s 183us/step - loss: 0.5058 - acc: 0.7960\n",
      "Epoch 68/100\n",
      "8000/8000 [==============================] - 1s 184us/step - loss: 0.5059 - acc: 0.7960\n",
      "Epoch 69/100\n",
      "8000/8000 [==============================] - 1s 176us/step - loss: 0.5059 - acc: 0.7960\n",
      "Epoch 70/100\n",
      "8000/8000 [==============================] - 1s 179us/step - loss: 1.1609 - acc: 0.7960\n",
      "Epoch 71/100\n",
      "8000/8000 [==============================] - 1s 179us/step - loss: 1.1649 - acc: 0.7960\n",
      "Epoch 72/100\n",
      "8000/8000 [==============================] - 1s 179us/step - loss: 1.1084 - acc: 0.7960\n",
      "Epoch 73/100\n",
      "8000/8000 [==============================] - 1s 180us/step - loss: 1.1700 - acc: 0.7960\n",
      "Epoch 74/100\n",
      "8000/8000 [==============================] - 1s 178us/step - loss: 0.5286 - acc: 0.7960\n",
      "Epoch 75/100\n",
      "8000/8000 [==============================] - 1s 177us/step - loss: 0.5060 - acc: 0.7960\n",
      "Epoch 76/100\n",
      "8000/8000 [==============================] - 1s 177us/step - loss: 0.5059 - acc: 0.7960\n",
      "Epoch 77/100\n",
      "8000/8000 [==============================] - 1s 180us/step - loss: 0.5060 - acc: 0.7960\n",
      "Epoch 78/100\n",
      "8000/8000 [==============================] - 1s 182us/step - loss: 0.5060 - acc: 0.7960\n",
      "Epoch 79/100\n",
      "8000/8000 [==============================] - 1s 176us/step - loss: 0.5059 - acc: 0.7960\n",
      "Epoch 80/100\n",
      "8000/8000 [==============================] - 1s 178us/step - loss: 0.5060 - acc: 0.7960\n",
      "Epoch 81/100\n",
      "8000/8000 [==============================] - 1s 183us/step - loss: 0.7974 - acc: 0.7960\n",
      "Epoch 82/100\n"
     ]
    },
    {
     "name": "stdout",
     "output_type": "stream",
     "text": [
      "8000/8000 [==============================] - 1s 174us/step - loss: 1.1707 - acc: 0.7960\n",
      "Epoch 83/100\n",
      "8000/8000 [==============================] - 1s 177us/step - loss: 1.1706 - acc: 0.7960\n",
      "Epoch 84/100\n",
      "8000/8000 [==============================] - 1s 178us/step - loss: 1.1706 - acc: 0.7960\n",
      "Epoch 85/100\n",
      "8000/8000 [==============================] - 1s 168us/step - loss: 1.1706 - acc: 0.7960\n",
      "Epoch 86/100\n",
      "8000/8000 [==============================] - 1s 177us/step - loss: 1.1706 - acc: 0.7960\n",
      "Epoch 87/100\n",
      "8000/8000 [==============================] - 1s 172us/step - loss: 1.1706 - acc: 0.7960\n",
      "Epoch 88/100\n",
      "8000/8000 [==============================] - 1s 175us/step - loss: 1.1706 - acc: 0.7960\n",
      "Epoch 89/100\n",
      "8000/8000 [==============================] - 1s 175us/step - loss: 1.1706 - acc: 0.7960\n",
      "Epoch 90/100\n",
      "8000/8000 [==============================] - 1s 176us/step - loss: 1.1706 - acc: 0.7960\n",
      "Epoch 91/100\n",
      "8000/8000 [==============================] - 1s 177us/step - loss: 1.1705 - acc: 0.7960\n",
      "Epoch 92/100\n",
      "8000/8000 [==============================] - 1s 175us/step - loss: 1.1706 - acc: 0.7960\n",
      "Epoch 93/100\n",
      "8000/8000 [==============================] - 1s 174us/step - loss: 1.1706 - acc: 0.7960\n",
      "Epoch 94/100\n",
      "8000/8000 [==============================] - 1s 176us/step - loss: 1.1706 - acc: 0.7960\n",
      "Epoch 95/100\n",
      "8000/8000 [==============================] - 1s 175us/step - loss: 1.1706 - acc: 0.7960\n",
      "Epoch 96/100\n",
      "8000/8000 [==============================] - 1s 173us/step - loss: 1.1706 - acc: 0.7960\n",
      "Epoch 97/100\n",
      "8000/8000 [==============================] - 1s 175us/step - loss: 1.1706 - acc: 0.7960\n",
      "Epoch 98/100\n",
      "8000/8000 [==============================] - 1s 174us/step - loss: 1.1706 - acc: 0.7960\n",
      "Epoch 99/100\n",
      "8000/8000 [==============================] - 1s 176us/step - loss: 1.1706 - acc: 0.7960\n",
      "Epoch 100/100\n",
      "8000/8000 [==============================] - 1s 173us/step - loss: 1.1706 - acc: 0.7960\n"
     ]
    },
    {
     "data": {
      "text/plain": [
       "<keras.callbacks.History at 0x7f18046bc390>"
      ]
     },
     "execution_count": 21,
     "metadata": {},
     "output_type": "execute_result"
    }
   ],
   "source": [
    "# Fitting the ANN to the Training set\n",
    "\n",
    "classifier.fit(X_train, y_train, batch_size = 10, epochs = 100)"
   ]
  },
  {
   "cell_type": "markdown",
   "metadata": {},
   "source": [
    "# Part 3 - Making predictions and evaluating the model"
   ]
  },
  {
   "cell_type": "markdown",
   "metadata": {},
   "source": [
    "# Predicting the Test set results\n",
    "\n",
    "y_pred = classifier.predict(X_test)\n",
    "y_pred = (y_pred > 0.5)\n"
   ]
  },
  {
   "cell_type": "markdown",
   "metadata": {},
   "source": [
    "# Making the Confusion Matrix\n",
    "\n",
    "from sklearn.metrics import confusion_matrix\n",
    "cm = confusion_matrix(y_test, y_pred)"
   ]
  },
  {
   "cell_type": "code",
   "execution_count": 22,
   "metadata": {},
   "outputs": [],
   "source": [
    "Accuracy : 79.60"
   ]
  },
  {
   "cell_type": "code",
   "execution_count": null,
   "metadata": {},
   "outputs": [],
   "source": []
  }
 ],
 "metadata": {
  "kernelspec": {
   "display_name": "Python 3",
   "language": "python",
   "name": "python3"
  },
  "language_info": {
   "codemirror_mode": {
    "name": "ipython",
    "version": 3
   },
   "file_extension": ".py",
   "mimetype": "text/x-python",
   "name": "python",
   "nbconvert_exporter": "python",
   "pygments_lexer": "ipython3",
   "version": "3.7.3"
  }
 },
 "nbformat": 4,
 "nbformat_minor": 2
}
